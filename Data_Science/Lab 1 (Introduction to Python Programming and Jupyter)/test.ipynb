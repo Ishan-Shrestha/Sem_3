{
 "cells": [
  {
   "cell_type": "code",
   "execution_count": 66,
   "metadata": {},
   "outputs": [
    {
     "name": "stdout",
     "output_type": "stream",
     "text": [
      "<class 'float'>\n",
      "5\n",
      "My name is Ishan, I am 163.01 cm.\n",
      "student id: ACE080BCT030. \n",
      "status: True\n"
     ]
    }
   ],
   "source": [
    "name = 'Ishan'\n",
    "height = 163.01\n",
    "roll_no = 'ACE080BCT030'\n",
    "status = True\n",
    "print(type(height))\n",
    "print(len(name))\n",
    "print(f'My name is {name}, I am {height} cm.\\nstudent id: {roll_no}. \\nstatus: {status}')"
   ]
  },
  {
   "cell_type": "code",
   "execution_count": 69,
   "metadata": {},
   "outputs": [
    {
     "name": "stdout",
     "output_type": "stream",
     "text": [
      "ishan\n"
     ]
    }
   ],
   "source": [
    "name=input(\"Enter your name:\\n\")\n",
    "print(name)"
   ]
  },
  {
   "cell_type": "code",
   "execution_count": null,
   "metadata": {},
   "outputs": [
    {
     "name": "stdout",
     "output_type": "stream",
     "text": [
      "3\n"
     ]
    }
   ],
   "source": [
    "First = int(input(\"Enter numbrer one:\"))\n",
    "Second = int(input(\"Enter the second num:\"))\n",
    "print(First+Second)"
   ]
  },
  {
   "cell_type": "code",
   "execution_count": null,
   "metadata": {},
   "outputs": [
    {
     "name": "stdout",
     "output_type": "stream",
     "text": [
      "5\n",
      "-1\n",
      "6\n",
      "8\n",
      "0.6666666666666666\n",
      "0\n"
     ]
    }
   ],
   "source": [
    "first=2\n",
    "second=3\n",
    "print(first+second)\n",
    "print(first-second)\n",
    "print(first*second)\n",
    "print(first**second)\n",
    "print(first/second)\n",
    "print(first//second)"
   ]
  },
  {
   "cell_type": "code",
   "execution_count": 73,
   "metadata": {},
   "outputs": [
    {
     "name": "stdout",
     "output_type": "stream",
     "text": [
      "3\n",
      "True\n"
     ]
    }
   ],
   "source": [
    "num = 1\n",
    "num+=2\n",
    "print(num)\n",
    "num2 = 2\n",
    "print(num>num2)"
   ]
  },
  {
   "cell_type": "code",
   "execution_count": 74,
   "metadata": {},
   "outputs": [
    {
     "name": "stdout",
     "output_type": "stream",
     "text": [
      "False\n",
      "True\n",
      "True\n"
     ]
    }
   ],
   "source": [
    "value1 =  True\n",
    "value2 = False\n",
    "print(value1 and value2)\n",
    "print(value1 or value2)\n",
    "print(not value2)"
   ]
  },
  {
   "cell_type": "code",
   "execution_count": null,
   "metadata": {},
   "outputs": [
    {
     "name": "stdout",
     "output_type": "stream",
     "text": [
      "This is a tnemetats made by nahsI \n"
     ]
    }
   ],
   "source": [
    "sentence = 'This is a statement made by Ishan'\n",
    "\n",
    "def rev(sentence):\n",
    "    reverse = ''\n",
    "    words = sentence.split(' ')  \n",
    "    for word in words:\n",
    "        if len(word) >= 5:\n",
    "            reverse += word[::-1] + ' ' \n",
    "        else:\n",
    "            reverse += word + ' ' \n",
    "    return reverse\n",
    "\n",
    "print(rev(sentence))\n"
   ]
  }
 ],
 "metadata": {
  "kernelspec": {
   "display_name": "Python 3",
   "language": "python",
   "name": "python3"
  },
  "language_info": {
   "codemirror_mode": {
    "name": "ipython",
    "version": 3
   },
   "file_extension": ".py",
   "mimetype": "text/x-python",
   "name": "python",
   "nbconvert_exporter": "python",
   "pygments_lexer": "ipython3",
   "version": "3.11.9"
  }
 },
 "nbformat": 4,
 "nbformat_minor": 2
}
