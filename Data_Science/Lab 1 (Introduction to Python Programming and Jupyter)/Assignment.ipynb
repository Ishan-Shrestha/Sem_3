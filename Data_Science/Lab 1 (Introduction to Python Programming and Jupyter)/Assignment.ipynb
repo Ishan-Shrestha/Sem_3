{
 "cells": [
  {
   "cell_type": "markdown",
   "metadata": {
    "id": "JfnUrD7GtWtS"
   },
   "source": [
    "# Assignment"
   ]
  },
  {
   "cell_type": "markdown",
   "metadata": {
    "id": "8azMj9yHtWtT"
   },
   "source": [
    "##### 1. WAP to generate a fibonacci sequence using function."
   ]
  },
  {
   "cell_type": "code",
   "execution_count": null,
   "metadata": {
    "colab": {
     "base_uri": "https://localhost:8080/"
    },
    "executionInfo": {
     "elapsed": 5164,
     "status": "ok",
     "timestamp": 1734491079380,
     "user": {
      "displayName": "Ishan Shrestha",
      "userId": "00628407084456041137"
     },
     "user_tz": -345
    },
    "id": "3vkDPZLltWtU",
    "outputId": "9d3fb8da-72da-4a0e-9382-d75cb4da2fcc"
   },
   "outputs": [],
   "source": [
    "def generate_fibonacci(limit):\n",
    "    first = 0\n",
    "    second = 1\n",
    "    print(f\"{first}\\n{second}\")\n",
    "    for count in range(3, limit+1):\n",
    "        n_term = first+second\n",
    "        print(f\"{n_term}\")\n",
    "        first=second\n",
    "        second=n_term\n",
    "limit = int(input(\"Enter the number of terms: \"))\n",
    "generate_fibonacci(limit)"
   ]
  },
  {
   "cell_type": "markdown",
   "metadata": {
    "id": "bw83PPyVtWtV"
   },
   "source": [
    "##### 2. Guess the number game\n",
    "##### Problem:<br>\n",
    "i) The program randomly select a number between 1 and 100.<br>\n",
    "ii) The user has to guess the number. They should provide hints.<br>\n",
    "iii) The game end after the user guesses the correct number.<br>\n",
    "##### Requirement:<br>\n",
    "i) Use import random<br>\n",
    "ii) Use function<br>\n",
    "iii) Track the attempt"
   ]
  },
  {
   "cell_type": "code",
   "execution_count": null,
   "metadata": {
    "colab": {
     "base_uri": "https://localhost:8080/"
    },
    "executionInfo": {
     "elapsed": 162853,
     "status": "ok",
     "timestamp": 1734491001451,
     "user": {
      "displayName": "Ishan Shrestha",
      "userId": "00628407084456041137"
     },
     "user_tz": -345
    },
    "id": "Nd3iAS5ktWtV",
    "outputId": "3cef24f3-affa-4edc-9d76-f3f53b255d09"
   },
   "outputs": [],
   "source": [
    "import random\n",
    "number = random.randrange(1, 100)\n",
    "def guess():\n",
    "    attempt = 0\n",
    "    while (attempt<10):\n",
    "        guess_number = int(input('Enter your guess:'))\n",
    "        if(guess_number>number):\n",
    "            print(\"The number is lower than your guess.\")\n",
    "        elif(guess_number<number):\n",
    "            print(\"The number is higher than your guess.\")\n",
    "        else:\n",
    "            print(\"Ding! Ding! Ding!\")\n",
    "            break\n",
    "        attempt+=1\n",
    "        if attempt==10:\n",
    "            print(\"Too many attempt!\")\n",
    "\n",
    "guess()"
   ]
  }
 ],
 "metadata": {
  "colab": {
   "provenance": []
  },
  "kernelspec": {
   "display_name": "Python 3",
   "language": "python",
   "name": "python3"
  },
  "language_info": {
   "codemirror_mode": {
    "name": "ipython",
    "version": 3
   },
   "file_extension": ".py",
   "mimetype": "text/x-python",
   "name": "python",
   "nbconvert_exporter": "python",
   "pygments_lexer": "ipython3",
   "version": "3.13.0"
  }
 },
 "nbformat": 4,
 "nbformat_minor": 0
}
